{
  "cells": [
    {
      "cell_type": "markdown",
      "metadata": {
        "id": "PgmIBMSOnxLT"
      },
      "source": [
        "# Chapter 2.\n",
        "\n",
        "# Unit 1. 자료구조와 배열"
      ]
    },
    {
      "cell_type": "code",
      "execution_count": null,
      "metadata": {
        "id": "s8j5wkYUnxLX"
      },
      "outputs": [],
      "source": [
        "a = [1,2,3]\n",
        "maximum = a[0]\n",
        "if a[1] > maximum: maximum = a[1]\n",
        "if a[2] > maximum: maximum = a[2]    "
      ]
    },
    {
      "cell_type": "code",
      "execution_count": null,
      "metadata": {
        "id": "lVw-VAi_nxLZ"
      },
      "outputs": [],
      "source": [
        "a = [1,2,3,4]\n",
        "maximum = a[0]\n",
        "if a[1] > maximum: maximum = a[1]\n",
        "if a[2] > maximum: maximum = a[2]\n",
        "if a[3] > maximum: maximum = a[3]"
      ]
    },
    {
      "cell_type": "code",
      "execution_count": null,
      "metadata": {
        "id": "8LUkid4XnxLa"
      },
      "outputs": [],
      "source": [
        "def max_of(a):\n",
        "    maximum = a[0]\n",
        "    for i in range(1, len(a)):\n",
        "        if a[i] > maximum:\n",
        "            maximum = a[i]\n",
        "    return maximum"
      ]
    },
    {
      "cell_type": "code",
      "execution_count": null,
      "metadata": {
        "id": "53kDtqqbnxLb"
      },
      "outputs": [],
      "source": [
        "t = (4, 7, 5.6, 2, 3.14, 1)\n",
        "s = 'string'\n",
        "a = ['DTS', 'AAC', 'FLAC']"
      ]
    },
    {
      "cell_type": "code",
      "execution_count": null,
      "metadata": {
        "id": "wz6LhSCKnxLc",
        "outputId": "77479664-309d-4812-8ef4-3b09aa52b670"
      },
      "outputs": [
        {
          "name": "stdout",
          "output_type": "stream",
          "text": [
            "7\n",
            "t\n",
            "FLAD\n"
          ]
        }
      ],
      "source": [
        "print(f'{max_of(t)}')\n",
        "print(f'{max_of(s)}')\n",
        "print(f'{max_of(a)}')"
      ]
    },
    {
      "cell_type": "code",
      "execution_count": null,
      "metadata": {
        "id": "OKSJQIoTnxLd",
        "outputId": "bfa9933d-340f-4561-eba9-c09ab400cb43"
      },
      "outputs": [
        {
          "data": {
            "text/plain": [
              "tuple"
            ]
          },
          "execution_count": 6,
          "metadata": {},
          "output_type": "execute_result"
        }
      ],
      "source": [
        "t1 = 1, 2, 3\n",
        "type(t1)"
      ]
    },
    {
      "cell_type": "code",
      "execution_count": null,
      "metadata": {
        "id": "7XINAo1qnxLe",
        "outputId": "11e39fbb-3577-481c-a2b6-0e38ee0008f1"
      },
      "outputs": [
        {
          "data": {
            "text/plain": [
              "tuple"
            ]
          },
          "execution_count": 7,
          "metadata": {},
          "output_type": "execute_result"
        }
      ],
      "source": [
        "t2 = (1, 2, 3)\n",
        "type(t2)"
      ]
    },
    {
      "cell_type": "code",
      "execution_count": null,
      "metadata": {
        "id": "URrbsa9vnxLf",
        "outputId": "ba3d7231-3f60-45f0-d345-4c9dd8f4b7d5"
      },
      "outputs": [
        {
          "ename": "TypeError",
          "evalue": "'tuple' object does not support item assignment",
          "output_type": "error",
          "traceback": [
            "\u001b[0;31m---------------------------------------------------------------------------\u001b[0m",
            "\u001b[0;31mTypeError\u001b[0m                                 Traceback (most recent call last)",
            "\u001b[0;32m<ipython-input-8-6dd06f73cec4>\u001b[0m in \u001b[0;36m<module>\u001b[0;34m\u001b[0m\n\u001b[0;32m----> 1\u001b[0;31m \u001b[0mt\u001b[0m\u001b[0;34m[\u001b[0m\u001b[0;36m0\u001b[0m\u001b[0;34m]\u001b[0m \u001b[0;34m=\u001b[0m \u001b[0;36m5\u001b[0m\u001b[0;34m\u001b[0m\u001b[0;34m\u001b[0m\u001b[0m\n\u001b[0m",
            "\u001b[0;31mTypeError\u001b[0m: 'tuple' object does not support item assignment"
          ]
        }
      ],
      "source": [
        "t[0] = 5"
      ]
    },
    {
      "cell_type": "code",
      "execution_count": null,
      "metadata": {
        "id": "0uKZHminnxLh"
      },
      "outputs": [],
      "source": [
        "a[0] ='DOLBY'"
      ]
    },
    {
      "cell_type": "code",
      "execution_count": null,
      "metadata": {
        "id": "M_ZHRAu7nxLi",
        "outputId": "311d0388-9fc3-47dc-eee7-59357bb941d1"
      },
      "outputs": [
        {
          "data": {
            "text/plain": [
              "['DOLBY', 'FLAD', 'FLAC']"
            ]
          },
          "execution_count": 10,
          "metadata": {},
          "output_type": "execute_result"
        }
      ],
      "source": [
        "a"
      ]
    },
    {
      "cell_type": "markdown",
      "metadata": {
        "id": "Gj0LZ77InxLi"
      },
      "source": [
        "### 미니 실습 1"
      ]
    },
    {
      "cell_type": "markdown",
      "metadata": {
        "id": "OcLO6YzCnxLj"
      },
      "source": [
        "### Q) 리스트 원소의 최솟값 구하기 함수 min_of( )를 작성하라"
      ]
    },
    {
      "cell_type": "code",
      "execution_count": null,
      "metadata": {
        "id": "rMfGKbc1nxLk"
      },
      "outputs": [],
      "source": [
        "t = (4,7,5.6,2,3.14,1)\n",
        "s = 'string'\n",
        "a = ['DTS','AAC','FLAC']\n",
        "\n",
        "def min_of(x):\n",
        "  mini = x[0]\n",
        "  for i in range(1, len(x)):\n",
        "    if x[i] < mini:\n",
        "      mini = x[i]\n",
        "  return mini\n",
        "\n",
        "print(min_of(t))\n",
        "print(min_of(s))\n",
        "print(min_of(a))\n",
        "\n"
      ]
    },
    {
      "cell_type": "markdown",
      "metadata": {
        "id": "Ss1v8O5XnxLk"
      },
      "source": [
        "### 미니 실습 1 답안"
      ]
    },
    {
      "cell_type": "code",
      "execution_count": null,
      "metadata": {
        "id": "0egTx3-anxLl"
      },
      "outputs": [],
      "source": [
        "def min_of(a):\n",
        "    minimum = a[0]\n",
        "    for i in range(1, len(a)):\n",
        "        if a[i] < minimum:\n",
        "            minimum = a[i]\n",
        "    return minimum"
      ]
    },
    {
      "cell_type": "code",
      "execution_count": null,
      "metadata": {
        "id": "poFzVRbWnxLl"
      },
      "outputs": [],
      "source": [
        "t = (4, 7, 5.6, 2, 3.14, 1)\n",
        "s = 'string'\n",
        "a = ['DTS', 'AAC', 'FLAC']"
      ]
    },
    {
      "cell_type": "code",
      "execution_count": null,
      "metadata": {
        "id": "bZjv-8V8nxLm",
        "outputId": "70a488a7-c116-4301-d353-073d93f4361b"
      },
      "outputs": [
        {
          "name": "stdout",
          "output_type": "stream",
          "text": [
            "1\n",
            "g\n",
            "AAC\n"
          ]
        }
      ],
      "source": [
        "print(f'{min_of(t)}')\n",
        "print(f'{min_of(s)}')\n",
        "print(f'{min_of(a)}')"
      ]
    },
    {
      "cell_type": "markdown",
      "metadata": {
        "id": "DulcrU3WnxLn"
      },
      "source": [
        "### 사용자가 입력한 리스트에서 최댓값 출력하기"
      ]
    },
    {
      "cell_type": "code",
      "execution_count": null,
      "metadata": {
        "id": "SiU2_fIjnxLn"
      },
      "outputs": [],
      "source": [
        "def max_of(a):\n",
        "    maximum = a[0]\n",
        "    for i in range(1, len(a)):\n",
        "        if a[i] > maximum:\n",
        "            maximum = a[i]\n",
        "    return maximum"
      ]
    },
    {
      "cell_type": "code",
      "execution_count": null,
      "metadata": {
        "id": "8saxxZmxnxLn",
        "outputId": "5cfd286e-651e-4f13-9661-2f55e6090acd"
      },
      "outputs": [
        {
          "name": "stdout",
          "output_type": "stream",
          "text": [
            "리스트의 최댓값을 구합니다.\n",
            "원소 수를 입력하세요.: 5\n",
            "x[0]값을 입력하세요.: 1\n",
            "x[1]값을 입력하세요.: 2\n",
            "x[2]값을 입력하세요.: 3\n",
            "x[3]값을 입력하세요.: 4\n",
            "x[4]값을 입력하세요.: 5\n",
            "최댓값은 5입니다.\n"
          ]
        }
      ],
      "source": [
        "print('리스트의 최댓값을 구합니다.')\n",
        "num = int(input('원소 수를 입력하세요.: '))\n",
        "x = [None] * num # 원소 수가 num인 리스트를 생성\n",
        "\n",
        "for i in range(num):\n",
        "    x[i] = int(input(f'x[{i}]값을 입력하세요.: '))\n",
        "    \n",
        "print(f'최댓값은 {max_of(x)}입니다.')"
      ]
    },
    {
      "cell_type": "markdown",
      "metadata": {
        "id": "U2Mt1_jcnxLo"
      },
      "source": [
        "### 사용자가 입력한 리스트에서 최댓값 출력하기 (리스트 크기 선언하지 않음)"
      ]
    },
    {
      "cell_type": "code",
      "execution_count": null,
      "metadata": {
        "id": "AqfaNVhknxLo",
        "outputId": "e6250b81-f7ad-4643-fab2-d4c57bdfe2ae"
      },
      "outputs": [
        {
          "name": "stdout",
          "output_type": "stream",
          "text": [
            "리스트의 최댓값을 구합니다.\n",
            "주의: \"End\"를 입력하면 원소 입력을 종료합니다.\n",
            "x[0]값을 입력하세요.: 1\n",
            "x[1]값을 입력하세요.: 2\n",
            "x[2]값을 입력하세요.: 3\n",
            "x[3]값을 입력하세요.: 4\n",
            "x[4]값을 입력하세요.: 5\n",
            "x[5]값을 입력하세요.: 6\n",
            "x[6]값을 입력하세요.: 6\n",
            "x[7]값을 입력하세요.: 7\n",
            "x[8]값을 입력하세요.: End\n",
            "최댓값은 7입니다.\n"
          ]
        }
      ],
      "source": [
        "print('리스트의 최댓값을 구합니다.')\n",
        "print('주의: \"End\"를 입력하면 원소 입력을 종료합니다.')\n",
        "i = 0\n",
        "x = []\n",
        "\n",
        "while True:\n",
        "    s = input(f'x[{i}]값을 입력하세요.: ')\n",
        "    if s == 'End':\n",
        "        break\n",
        "    x.append(int(s))\n",
        "    i += 1\n",
        "    \n",
        "print(f'최댓값은 {max_of(x)}입니다.')"
      ]
    },
    {
      "cell_type": "markdown",
      "metadata": {
        "id": "BXxX3fYYnxLp"
      },
      "source": [
        "### 리스트의 모든 원소를 스캔하기"
      ]
    },
    {
      "cell_type": "code",
      "execution_count": null,
      "metadata": {
        "id": "9mGMdpgOnxLp",
        "outputId": "378db887-3468-488f-9fe3-cd4270f7fd7b"
      },
      "outputs": [
        {
          "name": "stdout",
          "output_type": "stream",
          "text": [
            "x[0] = John\n",
            "x[1] = George\n",
            "x[2] = Paul\n",
            "x[3] = Ringo\n"
          ]
        }
      ],
      "source": [
        "#원소 수 파악\n",
        "\n",
        "x = ['John', 'George', 'Paul', 'Ringo']\n",
        "\n",
        "for i in range(len(x)):\n",
        "    print(f'x[{i}] = {x[i]}')"
      ]
    },
    {
      "cell_type": "code",
      "execution_count": null,
      "metadata": {
        "id": "MK5jjSQ1nxLp",
        "outputId": "3f7fa1d8-fca3-43da-b564-36d0f992d2d4"
      },
      "outputs": [
        {
          "name": "stdout",
          "output_type": "stream",
          "text": [
            "x[0] = John\n",
            "x[1] = George\n",
            "x[2] = Paul\n",
            "x[3] = Ringo\n"
          ]
        }
      ],
      "source": [
        "# enumerate 함수로 스캔\n",
        "\n",
        "x = ['John', 'George', 'Paul', 'Ringo']\n",
        "\n",
        "for i, name in enumerate(x):\n",
        "    print(f'x[{i}] = {name}')"
      ]
    },
    {
      "cell_type": "code",
      "execution_count": null,
      "metadata": {
        "id": "80QuvQm1nxLq",
        "outputId": "e40acf37-e30a-41e8-f339-04e86794ed98"
      },
      "outputs": [
        {
          "name": "stdout",
          "output_type": "stream",
          "text": [
            "John\n",
            "George\n",
            "Paul\n",
            "Ringo\n"
          ]
        }
      ],
      "source": [
        "# 인덱스 값을 사용하지 않음\n",
        "\n",
        "x = ['John', 'George', 'Paul', 'Ringo']\n",
        "\n",
        "for i in x:\n",
        "    print(i)"
      ]
    },
    {
      "cell_type": "markdown",
      "metadata": {
        "id": "nz7rCo8unxLq"
      },
      "source": [
        "### 원소를 역순으로 정렬하기"
      ]
    },
    {
      "cell_type": "code",
      "execution_count": null,
      "metadata": {
        "id": "Guq1IvWTnxLq"
      },
      "outputs": [],
      "source": [
        "# pseudo code\n",
        "\n",
        "for i in range(n // 2):\n",
        "        a[i]와 a[n - i - 1]의 값을 교환"
      ]
    },
    {
      "cell_type": "code",
      "execution_count": null,
      "metadata": {
        "id": "hLAdLnCAnxLr"
      },
      "outputs": [],
      "source": [
        "def reverse_list(a):\n",
        "    n = len(a)\n",
        "    for i in range(n // 2):\n",
        "        a[i], a[n - i - 1] = a[n - i - 1], a[i]"
      ]
    },
    {
      "cell_type": "code",
      "execution_count": null,
      "metadata": {
        "id": "gd0Es4benxLr",
        "outputId": "cb0f80b2-7656-4a9e-ee83-c7da4040352b"
      },
      "outputs": [
        {
          "name": "stdout",
          "output_type": "stream",
          "text": [
            "[7, 6, 9, 3, 1, 5, 2]\n"
          ]
        }
      ],
      "source": [
        "a = [2, 5, 1, 3, 9, 6, 7]\n",
        "\n",
        "reverse_list(a)\n",
        "\n",
        "print(a)"
      ]
    },
    {
      "cell_type": "markdown",
      "metadata": {
        "id": "iK_YKxD-nxLr"
      },
      "source": [
        "### 미니 실습 2\n",
        "### Q) 리스트를 사용자로부터 입력받아서 역순으로 정렬하여 리스트의 원소를 출력하여라."
      ]
    },
    {
      "cell_type": "code",
      "execution_count": null,
      "metadata": {
        "id": "rthnjiCUnxLs"
      },
      "outputs": [],
      "source": [
        "print(\"리스트를 역순으로 출력합니다.\")\n",
        "n = int(input(\"원소 수를 입력하세요.:\"))\n",
        "ls = []\n",
        "for i in range(n):\n",
        "  x = int(input(f\"x[{i}]값을 입력하세요.:\"))\n",
        "  ls.append(x)\n",
        "print(\"리스트를 역순으로 출력합니다.\")\n",
        "for i in range(len(ls)//2):\n",
        "  ls[i], ls[len(ls)-1-i] = ls[len(ls)-1-i], ls[i]\n",
        "for i in range(len(ls)):\n",
        "  print(f\"x[{i}] = {ls[i]}\")"
      ]
    },
    {
      "cell_type": "markdown",
      "metadata": {
        "id": "VWr4_uJnnxLs"
      },
      "source": [
        "### 미니 실습 2 답안"
      ]
    },
    {
      "cell_type": "code",
      "execution_count": null,
      "metadata": {
        "id": "kJ-woTeEnxLs"
      },
      "outputs": [],
      "source": [
        "def reverse_list(a):\n",
        "    n = len(a)\n",
        "    for i in range(n // 2):\n",
        "        a[i], a[n - i - 1] = a[n - i - 1], a[i]"
      ]
    },
    {
      "cell_type": "code",
      "execution_count": null,
      "metadata": {
        "id": "1a5UNZ4XnxLs",
        "outputId": "bb1225d4-1baf-4b2d-af09-80cf0076df2e"
      },
      "outputs": [
        {
          "name": "stdout",
          "output_type": "stream",
          "text": [
            "리스트를 역순으로 출력합니다.\n",
            "원소 수를 입력하세요.: 5\n",
            "x[0]값을 입력하세요.: 1\n",
            "x[1]값을 입력하세요.: 2\n",
            "x[2]값을 입력하세요.: 3\n",
            "x[3]값을 입력하세요.: 4\n",
            "x[4]값을 입력하세요.: 5\n",
            "리스트를 역순으로 출력합니다.\n",
            "x[0] = 5\n",
            "x[1] = 4\n",
            "x[2] = 3\n",
            "x[3] = 2\n",
            "x[4] = 1\n"
          ]
        }
      ],
      "source": [
        "print('리스트를 역순으로 출력합니다.')\n",
        "num = int(input('원소 수를 입력하세요.: '))\n",
        "x = [None] * num # 원소 수가 num인 리스트를 생성\n",
        "\n",
        "for i in range(num):\n",
        "    x[i] = int(input(f'x[{i}]값을 입력하세요.: '))\n",
        "\n",
        "reverse_list(x)\n",
        "\n",
        "print('리스트를 역순으로 출력합니다.')\n",
        "for i in range(num):\n",
        "    print(f'x[{i}] = {x[i]}')"
      ]
    },
    {
      "cell_type": "markdown",
      "metadata": {
        "id": "DjiAYrycnxLt"
      },
      "source": [
        "# Unit 2. 검색 알고리즘"
      ]
    },
    {
      "cell_type": "markdown",
      "metadata": {
        "id": "mYauKkM8nxLt"
      },
      "source": [
        "## 선형 검색"
      ]
    },
    {
      "cell_type": "code",
      "execution_count": null,
      "metadata": {
        "id": "tLLk9rRVnxLt"
      },
      "outputs": [],
      "source": [
        "# pseudo code\n",
        "\n",
        "i = 0\n",
        "while True:\n",
        "    if i == len(a):\n",
        "        # 검색실패\n",
        "    if a[i] == key:\n",
        "        # 검색 성고(찾은 원소의 인덱스 i)\n",
        "    \n",
        "    i += 1"
      ]
    },
    {
      "cell_type": "markdown",
      "metadata": {
        "id": "Zp1DMgc2nxLu"
      },
      "source": [
        "### While 문 선형검색"
      ]
    },
    {
      "cell_type": "code",
      "execution_count": null,
      "metadata": {
        "id": "Q0FIPN8FnxLu"
      },
      "outputs": [],
      "source": [
        "# while 문으로 작성한 선형 검색 알고리즘\n",
        "\n",
        "def seq_search(a, key):\n",
        "    i = 0\n",
        "    \n",
        "    while True:\n",
        "        if i == len(a):\n",
        "            return -1\n",
        "        if a[i] == key:\n",
        "            return i\n",
        "        i += 1"
      ]
    },
    {
      "cell_type": "code",
      "execution_count": null,
      "metadata": {
        "id": "znrLze3JnxLu",
        "outputId": "b09798f0-b378-498d-d234-14104edd8627"
      },
      "outputs": [
        {
          "name": "stdout",
          "output_type": "stream",
          "text": [
            "검색값은 a[3]에 있습니다.\n"
          ]
        }
      ],
      "source": [
        "a = [2, 5, 1, 3, 9, 6, 7]\n",
        "\n",
        "index = seq_search(a, 3)\n",
        "\n",
        "if index == -1:\n",
        "    print('검색값을 갖는 원소가 존재하지 않습니다.')\n",
        "else:\n",
        "    print(f'검색값은 a[{index}]에 있습니다.')"
      ]
    },
    {
      "cell_type": "markdown",
      "metadata": {
        "id": "GBQAguq7nxLw"
      },
      "source": [
        "## for 문 선형검색"
      ]
    },
    {
      "cell_type": "code",
      "execution_count": null,
      "metadata": {
        "id": "M83r19wPnxLw"
      },
      "outputs": [],
      "source": [
        "# for 문으로 작성한 선형 검색 알고리즘\n",
        "\n",
        "def seq_search_for(a, key):\n",
        "    \n",
        "    for i in range(len(a)):\n",
        "        if a[i] == key:\n",
        "            return i\n",
        "    return -1"
      ]
    },
    {
      "cell_type": "code",
      "execution_count": null,
      "metadata": {
        "id": "aOWe3tkEnxLw",
        "outputId": "df7de6d7-6f04-4bfd-99ee-e1189be2383b"
      },
      "outputs": [
        {
          "name": "stdout",
          "output_type": "stream",
          "text": [
            "검색값을 갖는 원소가 존재하지 않습니다.\n"
          ]
        }
      ],
      "source": [
        "a = [2, 5, 1, 3, 9, 6, 7]\n",
        "\n",
        "index = seq_search_for(a, 4)\n",
        "\n",
        "if index == -1:\n",
        "    print('검색값을 갖는 원소가 존재하지 않습니다.')\n",
        "else:\n",
        "    print(f'검색값은 a[{index}]에 있습니다.')"
      ]
    },
    {
      "cell_type": "markdown",
      "metadata": {
        "id": "1nU9gH13nxLx"
      },
      "source": [
        "### 보초법 (While 문)"
      ]
    },
    {
      "cell_type": "code",
      "execution_count": null,
      "metadata": {
        "id": "Ifi1_EtQnxLx"
      },
      "outputs": [],
      "source": [
        "def seq_search_sentinel(b, key):\n",
        "    a = b.copy()\n",
        "    a.append(key)\n",
        "    \n",
        "    i=0\n",
        "    while True:\n",
        "        if a[i] == key:\n",
        "            break\n",
        "        i += 1\n",
        "    \n",
        "    return -1 if i == len(b) else i"
      ]
    },
    {
      "cell_type": "code",
      "execution_count": null,
      "metadata": {
        "id": "wyISnsgenxLx",
        "outputId": "74eca3f3-18c2-4ab6-e8a0-3c651e30124f"
      },
      "outputs": [
        {
          "name": "stdout",
          "output_type": "stream",
          "text": [
            "검색값은 a[6]에 있습니다.\n"
          ]
        }
      ],
      "source": [
        "a = [2, 5, 1, 3, 9, 6, 7]\n",
        "\n",
        "index = seq_search_sentinel(a, 7)\n",
        "\n",
        "if index == -1:\n",
        "    print('검색값을 갖는 원소가 존재하지 않습니다.')\n",
        "else:\n",
        "    print(f'검색값은 a[{index}]에 있습니다.')"
      ]
    },
    {
      "cell_type": "markdown",
      "metadata": {
        "id": "QYEojDcrnxLy"
      },
      "source": [
        "### 미니 실습 3)\n",
        "\n",
        "### Q) 아래 리스트에서 검색값을 찾으려고 한다. \n",
        "### 선형 검색 While 문을 사용하는 경우와 보초법을 사용하는 경우에 각각 if 조건문이 몇 번 실행되지는 수를 세어 출력하라. "
      ]
    },
    {
      "cell_type": "markdown",
      "metadata": {
        "id": "4niQQFeLnxLy"
      },
      "source": [
        "### a = [2, 5, 1, 3, 9, 6, 7]\n",
        "\n",
        "### 검색값: 7"
      ]
    },
    {
      "cell_type": "code",
      "execution_count": 3,
      "metadata": {
        "colab": {
          "base_uri": "https://localhost:8080/"
        },
        "id": "tZ4cMTSVnxLy",
        "outputId": "d779868f-fcb1-4479-cad7-0256a27a65f8"
      },
      "outputs": [
        {
          "output_type": "stream",
          "name": "stdout",
          "text": [
            "선형 검색 While문을 사용하는 경우 if 조건문 실행 개수: 14\n",
            "보초법 검색을 사용하는 경우 if 조건문 실행 개수: 7\n"
          ]
        }
      ],
      "source": [
        "a = [2,5,1,3,9,6,7]\n",
        "key = 7\n",
        "\n",
        "def linear_search(a, k):\n",
        "  i = 0\n",
        "  num_if = 0\n",
        "  while True:\n",
        "    num_if += 1\n",
        "    if i == len(a):\n",
        "      return -1, num_if\n",
        "    num_if += 1\n",
        "    if a[i] == key:\n",
        "      return i, num_if\n",
        "    i += 1\n",
        "  \n",
        "def sentinel_search(a, k):\n",
        "  i = 0\n",
        "  num_if = 0\n",
        "  b = a.copy()\n",
        "  a.append(k)\n",
        "  while True:\n",
        "    num_if +=1\n",
        "    if a[i] == key:\n",
        "      break\n",
        "    i += 1\n",
        "\n",
        "  if i == len(b):\n",
        "    return -1, num_if\n",
        "  else:\n",
        "    return i, num_if\n",
        "\n",
        "l_idx, l_if_num = linear_search(a, key)\n",
        "s_idx, s_if_num = sentinel_search(a, key)\n",
        "print(f\"선형 검색 While문을 사용하는 경우 if 조건문 실행 개수: {l_if_num}\")\n",
        "print(f\"보초법 검색을 사용하는 경우 if 조건문 실행 개수: {s_if_num}\")\n"
      ]
    },
    {
      "cell_type": "markdown",
      "metadata": {
        "id": "3z_CtQC7nxLz"
      },
      "source": [
        "### 미니 실습 3) 답안 "
      ]
    },
    {
      "cell_type": "code",
      "execution_count": null,
      "metadata": {
        "id": "F7FPKNRYnxLz"
      },
      "outputs": [],
      "source": [
        "def seq_search(a, key):\n",
        "    i = 0\n",
        "    counter = 0\n",
        "    while True:\n",
        "        counter += 1\n",
        "        if i == len(a):\n",
        "            return (-1, counter)\n",
        "        counter += 1\n",
        "        if a[i] == key:\n",
        "            return (i, counter)\n",
        "        i += 1"
      ]
    },
    {
      "cell_type": "code",
      "execution_count": null,
      "metadata": {
        "id": "cyZUSDEZnxL0"
      },
      "outputs": [],
      "source": [
        "def seq_search_sentinel(b, key):\n",
        "    a = b.copy()\n",
        "    a.append(key)\n",
        "    \n",
        "    i=0\n",
        "    counter = 0\n",
        "    while True:\n",
        "        counter += 1\n",
        "        if a[i] == key:\n",
        "            break\n",
        "        i += 1\n",
        "    \n",
        "    return (-1, counter) if i == len(b) else (i, counter)"
      ]
    },
    {
      "cell_type": "code",
      "execution_count": null,
      "metadata": {
        "id": "XUOxw8venxL0",
        "outputId": "86d2826e-3626-4ed1-e4d2-1fc7c305daa1"
      },
      "outputs": [
        {
          "name": "stdout",
          "output_type": "stream",
          "text": [
            "선형검색 While 문에서 검색값은 a[6]에 있습니다.\n",
            "선형검색 보초법에서 검색값은 a[6]에 있습니다.\n",
            "선형검색 While 문에서 if문은 14만큼 실행되었습니다.\n",
            "선형검색 보초법에서 if문은 7만큼 실행되었습니다.\n"
          ]
        }
      ],
      "source": [
        "a = [2, 5, 1, 3, 9, 6, 7]\n",
        "\n",
        "index0, counter0 = seq_search(a, 7)\n",
        "index1, counter1 = seq_search_sentinel(a, 7)\n",
        "\n",
        "if index0 == -1 and index1 == -1:\n",
        "    print('검색값을 갖는 원소가 존재하지 않습니다.')\n",
        "else:\n",
        "    print(f'선형검색 While 문에서 검색값은 a[{index0}]에 있습니다.')\n",
        "    print(f'선형검색 보초법에서 검색값은 a[{index1}]에 있습니다.')\n",
        "    print(f'선형검색 While 문에서 if문은 {counter0}만큼 실행되었습니다.')\n",
        "    print(f'선형검색 보초법에서 if문은 {counter1}만큼 실행되었습니다.')"
      ]
    },
    {
      "cell_type": "markdown",
      "metadata": {
        "id": "l96voZpFnxL0"
      },
      "source": [
        "## 이진 검색"
      ]
    },
    {
      "cell_type": "code",
      "execution_count": null,
      "metadata": {
        "id": "AhHwu1oXnxL1"
      },
      "outputs": [],
      "source": [
        "# 이진 검색 알고리즘\n",
        "\n",
        "def bin_search(a, key):\n",
        "    pl = 0\n",
        "    pr = len(a)-1\n",
        "    \n",
        "    while True:\n",
        "        pc = (pl + pr) // 2\n",
        "        if a[pc] == key:\n",
        "            return pc\n",
        "        elif a[pc] < key:\n",
        "            pl = pc + 1\n",
        "        else:\n",
        "            pr = pc - 1\n",
        "        \n",
        "        if pl > pr:\n",
        "            break\n",
        "    \n",
        "    return -1"
      ]
    },
    {
      "cell_type": "code",
      "execution_count": null,
      "metadata": {
        "id": "MzY6CvD7nxL1",
        "outputId": "88181e3e-6a1d-4da5-8e29-071f0852cc67"
      },
      "outputs": [
        {
          "name": "stdout",
          "output_type": "stream",
          "text": [
            "검색값은 a[6]에 있습니다.\n"
          ]
        }
      ],
      "source": [
        "a = [5, 7, 15, 28, 29, 31, 39, 58, 68, 70, 95]\n",
        "\n",
        "index = bin_search(a, 39)\n",
        "\n",
        "if index == -1:\n",
        "    print('검색값을 갖는 원소가 존재하지 않습니다.')\n",
        "else:\n",
        "    print(f'검색값은 a[{index}]에 있습니다.')"
      ]
    },
    {
      "cell_type": "markdown",
      "metadata": {
        "id": "HMtlOaMdnxL1"
      },
      "source": [
        "## 실습 1"
      ]
    },
    {
      "cell_type": "markdown",
      "metadata": {
        "id": "Drcd249UnxL2"
      },
      "source": [
        "### Q) 2부터 1000사이의 수 중에서 소수를 리스트에 입력하고 출력하여라."
      ]
    },
    {
      "cell_type": "code",
      "source": [
        "ls = [None] * 1001\n",
        "for i in range(2, 1000):\n",
        "  ls[i] = i\n",
        "m = int(1000 ** 0.5)\n",
        "\n",
        "for i in range(2, m+1): ## 에라토스테네스의 체 알고리즘 적용\n",
        "## https://velog.io/@junyp1/%EC%97%90%EB%9D%BC%ED%86%A0%EC%8A%A4%ED%85%8C%EB%84%A4%EC%8A%A4%EC%9D%98-%EC%B2%B4-%ED%8C%8C%EC%9D%B4%EC%8D%AC-%EA%B5%AC%ED%98%84\n",
        "## 에라토스테네스의 체를 사용해 소수의 여부를 구할 수의 제곱근까지만 확인하면 된다.\n",
        "## 즉 아래의 수들을 체에 걸러내는 작업을 할 때 i를 최대 수인 1000의 제곱근까지만 진행하면 알아서 1000까지의 수까지 솎아낸다.\n",
        "  if ls[i] != 0:\n",
        "    for j in range(i+i, 1000, i):\n",
        "      if ls[j] != 0:\n",
        "        ls[j] = 0\n",
        "\n",
        "prime = []\n",
        "for i in range(2, 1000):\n",
        "  if ls[i] != 0:\n",
        "    prime.append(i)\n",
        "\n",
        "print(prime)\n",
        "# 에라토스테네스의 체 알고리즘\n",
        "print(len(prime))"
      ],
      "metadata": {
        "colab": {
          "base_uri": "https://localhost:8080/"
        },
        "id": "K37Ge02JtLqT",
        "outputId": "405c8452-96d4-422d-e4d0-b4eb559096de"
      },
      "execution_count": 13,
      "outputs": [
        {
          "output_type": "stream",
          "name": "stdout",
          "text": [
            "[2, 3, 5, 7, 11, 13, 17, 19, 23, 29, 31, 37, 41, 43, 47, 53, 59, 61, 67, 71, 73, 79, 83, 89, 97, 101, 103, 107, 109, 113, 127, 131, 137, 139, 149, 151, 157, 163, 167, 173, 179, 181, 191, 193, 197, 199, 211, 223, 227, 229, 233, 239, 241, 251, 257, 263, 269, 271, 277, 281, 283, 293, 307, 311, 313, 317, 331, 337, 347, 349, 353, 359, 367, 373, 379, 383, 389, 397, 401, 409, 419, 421, 431, 433, 439, 443, 449, 457, 461, 463, 467, 479, 487, 491, 499, 503, 509, 521, 523, 541, 547, 557, 563, 569, 571, 577, 587, 593, 599, 601, 607, 613, 617, 619, 631, 641, 643, 647, 653, 659, 661, 673, 677, 683, 691, 701, 709, 719, 727, 733, 739, 743, 751, 757, 761, 769, 773, 787, 797, 809, 811, 821, 823, 827, 829, 839, 853, 857, 859, 863, 877, 881, 883, 887, 907, 911, 919, 929, 937, 941, 947, 953, 967, 971, 977, 983, 991, 997]\n",
            "168\n"
          ]
        }
      ]
    },
    {
      "cell_type": "code",
      "execution_count": null,
      "metadata": {
        "id": "NqbHjC6QnxL2",
        "outputId": "f6e024cf-04f3-43cd-b04f-d3d756d96136"
      },
      "outputs": [
        {
          "name": "stdout",
          "output_type": "stream",
          "text": [
            "[2, 3, 5, 7, 11, 13, 17, 19, 23, 29, 31, 37, 41, 43, 47, 53, 59, 61, 67, 71, 73, 79, 83, 89, 97, 101, 103, 107, 109, 113, 127, 131, 137, 139, 149, 151, 157, 163, 167, 173, 179, 181, 191, 193, 197, 199, 211, 223, 227, 229, 233, 239, 241, 251, 257, 263, 269, 271, 277, 281, 283, 293, 307, 311, 313, 317, 331, 337, 347, 349, 353, 359, 367, 373, 379, 383, 389, 397, 401, 409, 419, 421, 431, 433, 439, 443, 449, 457, 461, 463, 467, 479, 487, 491, 499, 503, 509, 521, 523, 541, 547, 557, 563, 569, 571, 577, 587, 593, 599, 601, 607, 613, 617, 619, 631, 641, 643, 647, 653, 659, 661, 673, 677, 683, 691, 701, 709, 719, 727, 733, 739, 743, 751, 757, 761, 769, 773, 787, 797, 809, 811, 821, 823, 827, 829, 839, 853, 857, 859, 863, 877, 881, 883, 887, 907, 911, 919, 929, 937, 941, 947, 953, 967, 971, 977, 983, 991, 997]\n"
          ]
        }
      ],
      "source": [
        "prime = []\n",
        "\n",
        "for n in range(2, 1001):\n",
        "    flag = 0\n",
        "    for i in range(2, n):\n",
        "        if n % i == 0:\n",
        "            flag = 1\n",
        "            break\n",
        "        \n",
        "    if(flag == 0):\n",
        "        prime.append(n)\n",
        "    \n",
        "print(prime)"
      ]
    },
    {
      "cell_type": "markdown",
      "metadata": {
        "id": "oIe6PW9onxL3"
      },
      "source": [
        "### 실습 2"
      ]
    },
    {
      "cell_type": "markdown",
      "metadata": {
        "id": "2ARZQplSnxL3"
      },
      "source": [
        "### Q) 리스트를 사용자로부터 입력받아서 역순으로 정렬하여 리스트의 원소를 출력하여라.\n",
        "### 원소 수를 미리 묻지 말고 코드가 실행될 수 있도록하라."
      ]
    },
    {
      "cell_type": "code",
      "source": [
        "ls = []\n",
        "i = 0\n",
        "while True:\n",
        "  n = input(f\"x[{i}]값을 입력하세요.:\")\n",
        "  if n == 'end' or 'End' or 'END':\n",
        "    break\n",
        "  i += 1\n",
        "  ls.append(int(n))\n",
        "\n",
        "print(\"리스트를 역순으로 정렬하여 출력합니다.\")\n",
        "for i in range(len(ls)//2):\n",
        "  ls[i], ls[len(ls)-1-i] = ls[len(ls)-1-i], ls[i]\n",
        "  \n",
        "for i in range(len(ls)):\n",
        "  print(f\"x[{i}] = {ls[i]}\")"
      ],
      "metadata": {
        "colab": {
          "base_uri": "https://localhost:8080/"
        },
        "id": "L0PdIdv8uGhw",
        "outputId": "12b182cd-d4a9-41af-9501-2167218489ac"
      },
      "execution_count": 5,
      "outputs": [
        {
          "output_type": "stream",
          "name": "stdout",
          "text": [
            "x[0]값을 입력하세요.:5\n",
            "x[1]값을 입력하세요.:4\n",
            "x[2]값을 입력하세요.:3\n",
            "x[3]값을 입력하세요.:2\n",
            "x[4]값을 입력하세요.:1\n",
            "x[5]값을 입력하세요.:0\n",
            "x[6]값을 입력하세요.:end\n",
            "리스트를 역순으로 정렬하여 출력합니다.\n",
            "x[0] = 0\n",
            "x[1] = 1\n",
            "x[2] = 2\n",
            "x[3] = 3\n",
            "x[4] = 4\n",
            "x[5] = 5\n"
          ]
        }
      ]
    },
    {
      "cell_type": "code",
      "execution_count": null,
      "metadata": {
        "id": "l9J_BEEznxL3"
      },
      "outputs": [],
      "source": [
        "def reverse_list(a):\n",
        "    n = len(a)\n",
        "    for i in range(n // 2):\n",
        "        a[i], a[n - i - 1] = a[n - i - 1], a[i]"
      ]
    },
    {
      "cell_type": "code",
      "execution_count": null,
      "metadata": {
        "id": "sq8wFbkanxL4",
        "outputId": "da580761-a296-4702-a498-cbe1c5e3b157"
      },
      "outputs": [
        {
          "name": "stdout",
          "output_type": "stream",
          "text": [
            "리스트를 역순으로 정렬하여 출력합니다.\n",
            "주의: \"End\"를 입력하면 원소 입력을 종료합니다.\n",
            "x[0]값을 입력하세요.: 5\n",
            "x[1]값을 입력하세요.: 4\n",
            "x[2]값을 입력하세요.: 3\n",
            "x[3]값을 입력하세요.: 2\n",
            "x[4]값을 입력하세요.: 1\n",
            "x[5]값을 입력하세요.: End\n",
            "x[0] = 1\n",
            "x[1] = 2\n",
            "x[2] = 3\n",
            "x[3] = 4\n",
            "x[4] = 5\n"
          ]
        }
      ],
      "source": [
        "print('리스트를 역순으로 정렬하여 출력합니다.')\n",
        "print('주의: \"End\"를 입력하면 원소 입력을 종료합니다.')\n",
        "i = 0\n",
        "x = []\n",
        "\n",
        "while True:\n",
        "    s = input(f'x[{i}]값을 입력하세요.: ')\n",
        "    if s == 'End':\n",
        "        break\n",
        "    x.append(int(s))\n",
        "    i += 1\n",
        "    \n",
        "reverse_list(x)\n",
        "\n",
        "for i in range(len(x)):\n",
        "    print(f'x[{i}] = {x[i]}')"
      ]
    },
    {
      "cell_type": "markdown",
      "metadata": {
        "id": "YnGyOA8onxL4"
      },
      "source": [
        "### 실습 3"
      ]
    },
    {
      "cell_type": "markdown",
      "metadata": {
        "id": "TIWvGbxEnxL5"
      },
      "source": [
        "### Q) 리스트와 검색할 값을 사용자로부터 입력받아서 검색값이 있는 인덱스를 출력하라.\n",
        "### 검색방안은 어떤 방안을 사용하여도 됩니다."
      ]
    },
    {
      "cell_type": "code",
      "source": [
        "def binary_search(a, key):\n",
        "  start = 0\n",
        "  end = len(a) - 1\n",
        "  while start <= end:\n",
        "    mid = (start + end) // 2\n",
        "    if a[mid] < key:\n",
        "      start = mid + 1\n",
        "    elif a[mid] > key:\n",
        "      end = mid - 1\n",
        "    else:\n",
        "      return mid\n",
        "  return -1\n",
        "\n",
        "ls = list(map(int, input(\"리스트를 입력하세요.:\").split()))\n",
        "key = int(input(\"검색값을 입력하세요.:\"))\n",
        "result = binary_search(ls, key)\n",
        "if result != -1:\n",
        "  print(f\"검색값 {key}의 index 값은 {result}입니다.\")\n",
        "else:\n",
        "  print(\"검색값이 검색되지 않았습니다.\")\n"
      ],
      "metadata": {
        "colab": {
          "base_uri": "https://localhost:8080/"
        },
        "id": "9m4QEtvfvPHQ",
        "outputId": "734345ee-3d2b-462f-99f9-3fec72dfb7ff"
      },
      "execution_count": 9,
      "outputs": [
        {
          "output_type": "stream",
          "name": "stdout",
          "text": [
            "리스트를 입력하세요.:5 7 15 28 29 31 39 58 68 70 95\n",
            "검색값을 입력하세요.:58\n",
            "검색값 58의 index 값은 7입니다.\n"
          ]
        }
      ]
    },
    {
      "cell_type": "code",
      "execution_count": null,
      "metadata": {
        "id": "IZBVSmb-nxL5"
      },
      "outputs": [],
      "source": [
        "def seq_search(a, key):\n",
        "    i = 0\n",
        "    \n",
        "    while True:\n",
        "        if i == len(a):\n",
        "            return -1\n",
        "        if a[i] == key:\n",
        "            return i\n",
        "        i += 1"
      ]
    },
    {
      "cell_type": "code",
      "execution_count": null,
      "metadata": {
        "id": "HvXlCJc3nxL5",
        "outputId": "22478a09-64cf-40cf-84da-ec9682c16fa3"
      },
      "outputs": [
        {
          "name": "stdout",
          "output_type": "stream",
          "text": [
            "리스트와 검색할 값을 입력받아 검색값이 있는 인덱스를 출력합니다.\n",
            "주의: \"End\"를 입력하면 원소 입력을 종료합니다.\n",
            "x[0]값을 입력하세요.: 5\n",
            "x[1]값을 입력하세요.: 7\n",
            "x[2]값을 입력하세요.: 3\n",
            "x[3]값을 입력하세요.: 10\n",
            "x[4]값을 입력하세요.: 1\n",
            "x[5]값을 입력하세요.: 2\n",
            "x[6]값을 입력하세요.: 39\n",
            "x[7]값을 입력하세요.: End\n",
            "검색할 값을 입력하세요.: 10\n",
            "검색값 10는 a[3]에 있습니다.\n"
          ]
        }
      ],
      "source": [
        "print('리스트와 검색할 값을 입력받아 검색값이 있는 인덱스를 출력합니다.')\n",
        "print('주의: \"End\"를 입력하면 원소 입력을 종료합니다.')\n",
        "i = 0\n",
        "x = []\n",
        "\n",
        "while True:\n",
        "    s = input(f'x[{i}]값을 입력하세요.: ')\n",
        "    if s == 'End':\n",
        "        break\n",
        "    x.append(int(s))\n",
        "    i += 1\n",
        "\n",
        "key = int(input('검색할 값을 입력하세요.: '))\n",
        "    \n",
        "index = seq_search(x, key)\n",
        "\n",
        "print(f'검색값 {key}는 a[{index}]에 있습니다.')"
      ]
    },
    {
      "cell_type": "markdown",
      "metadata": {
        "id": "cRf1cofCnxL6"
      },
      "source": [
        "### 실습 4"
      ]
    },
    {
      "cell_type": "markdown",
      "metadata": {
        "id": "bGk16K0hnxL6"
      },
      "source": [
        "### Q) 리스트를 사용자로부터 입력받아서 최대값과 최대값이 있는 인덱스를 출력하라."
      ]
    },
    {
      "cell_type": "code",
      "source": [
        "ls = list(map(int, input(\"리스트의 원소들을 입력하세요.:\").split()))\n",
        "maximum = ls[0]\n",
        "max_idx = 0\n",
        "for i in range(1, len(ls)):\n",
        "  if ls[i] > maximum:\n",
        "    maximum = ls[i]\n",
        "    max_idx = i\n",
        "\n",
        "print(f\"입력하신 리스트의 최대값은 {maximum}이고 최대값이 있는 인덱스는 {max_idx}입니다.\")"
      ],
      "metadata": {
        "colab": {
          "base_uri": "https://localhost:8080/"
        },
        "id": "Vuxup91kw91Q",
        "outputId": "e39084b8-1b06-4f95-eacb-11f8c4cac9fc"
      },
      "execution_count": 11,
      "outputs": [
        {
          "output_type": "stream",
          "name": "stdout",
          "text": [
            "리스트의 원소들을 입력하세요.:5 6 14 20 29 34 37 51 69 75 33 11\n",
            "입력하신 리스트의 최대값은 75이고 최대값이 있는 인덱스는 9입니다.\n"
          ]
        }
      ]
    },
    {
      "cell_type": "code",
      "execution_count": null,
      "metadata": {
        "id": "cxyjnGC7nxL6"
      },
      "outputs": [],
      "source": [
        "def max_of(a):\n",
        "    maximum = a[0]\n",
        "    for i in range(1, len(a)):\n",
        "        if a[i] > maximum:\n",
        "            maximum = a[i]\n",
        "    return maximum"
      ]
    },
    {
      "cell_type": "code",
      "execution_count": null,
      "metadata": {
        "id": "7PhWUqpHnxL6"
      },
      "outputs": [],
      "source": [
        "def seq_search(a, key):\n",
        "    i = 0\n",
        "    \n",
        "    while True:\n",
        "        if i == len(a):\n",
        "            return -1\n",
        "        if a[i] == key:\n",
        "            return i\n",
        "        i += 1"
      ]
    },
    {
      "cell_type": "code",
      "execution_count": null,
      "metadata": {
        "id": "kSiNvLAwnxL7",
        "outputId": "404ac5ff-9567-45f5-98d3-4bb12e6a0769"
      },
      "outputs": [
        {
          "name": "stdout",
          "output_type": "stream",
          "text": [
            "리스트를 역순으로 정렬하여 출력합니다.\n",
            "주의: \"End\"를 입력하면 원소 입력을 종료합니다.\n",
            "x[0]값을 입력하세요.: 5\n",
            "x[1]값을 입력하세요.: 6\n",
            "x[2]값을 입력하세요.: 14\n",
            "x[3]값을 입력하세요.: 20\n",
            "x[4]값을 입력하세요.: 29\n",
            "x[5]값을 입력하세요.: 34\n",
            "x[6]값을 입력하세요.: 37\n",
            "x[7]값을 입력하세요.: 51\n",
            "x[8]값을 입력하세요.: 69\n",
            "x[9]값을 입력하세요.: 75\n",
            "x[10]값을 입력하세요.: 33\n",
            "x[11]값을 입력하세요.: 11\n",
            "x[12]값을 입력하세요.: End\n",
            "최대값은 75이고 a[9]에 있습니다.\n"
          ]
        }
      ],
      "source": [
        "print('리스트를 사용자로부터 입력받아서 최대값과 최대값이 있는 인덱스를 출력합니다.')\n",
        "print('주의: \"End\"를 입력하면 원소 입력을 종료합니다.')\n",
        "i = 0\n",
        "x = []\n",
        "\n",
        "while True:\n",
        "    s = input(f'x[{i}]값을 입력하세요.: ')\n",
        "    if s == 'End':\n",
        "        break\n",
        "    x.append(int(s))\n",
        "    i += 1\n",
        "\n",
        "maximum = max_of(x)\n",
        "index = seq_search(x, maximum)\n",
        "\n",
        "print(f'최대값은 {maximum}이고 a[{index}]에 있습니다.')"
      ]
    },
    {
      "cell_type": "markdown",
      "source": [
        "- python slicing에 대해서 조금 헷갈리는 부분이 존재해서 따로 적는다.\n",
        "\n",
        "### 참고\n",
        "- https://velog.io/@emplam27/%ED%8C%8C%EC%9D%B4%EC%8D%AC-%EB%A6%AC%EC%8A%A4%ED%8A%B8%EC%9D%98-%EA%B9%8A%EC%9D%80%EB%B3%B5%EC%82%AC%EB%8A%94-deepcopy%EA%B0%80-%EB%B9%A0%EB%A5%BC%EA%B9%8C-slicing%EC%9D%B4-%EB%B9%A0%EB%A5%BC%EA%B9%8C (깊은 복사의 방법들 속도 비교)\n",
        "- slicing에서 extended slicing 정보\n",
        "https://zzonglove.tistory.com/29"
      ],
      "metadata": {
        "id": "5eQbhyYH1DX0"
      }
    }
  ],
  "metadata": {
    "kernelspec": {
      "display_name": "Python 3 (ipykernel)",
      "language": "python",
      "name": "python3"
    },
    "language_info": {
      "codemirror_mode": {
        "name": "ipython",
        "version": 3
      },
      "file_extension": ".py",
      "mimetype": "text/x-python",
      "name": "python",
      "nbconvert_exporter": "python",
      "pygments_lexer": "ipython3",
      "version": "3.9.12"
    },
    "colab": {
      "name": "Chapter2-List-Q-A.ipynb",
      "provenance": []
    }
  },
  "nbformat": 4,
  "nbformat_minor": 0
}